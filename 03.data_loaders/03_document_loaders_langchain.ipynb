{
  "nbformat": 4,
  "nbformat_minor": 0,
  "metadata": {
    "colab": {
      "provenance": []
    },
    "kernelspec": {
      "name": "python3",
      "display_name": "Python 3"
    },
    "language_info": {
      "name": "python"
    }
  },
  "cells": [
    {
      "cell_type": "markdown",
      "source": [
        "# **Document Loaders** in LangChain"
      ],
      "metadata": {
        "id": "AZV4nvhCbGRT"
      }
    },
    {
      "cell_type": "code",
      "execution_count": 2,
      "metadata": {
        "id": "DL6hokNbKhSu",
        "colab": {
          "base_uri": "https://localhost:8080/"
        },
        "outputId": "ff390132-7e23-44b6-be52-13757a5760d0"
      },
      "outputs": [
        {
          "output_type": "stream",
          "name": "stdout",
          "text": [
            "\u001b[2K     \u001b[90m━━━━━━━━━━━━━━━━━━━━━━━━━━━━━━━━━━━━━━━━\u001b[0m \u001b[32m974.6/974.6 kB\u001b[0m \u001b[31m13.5 MB/s\u001b[0m eta \u001b[36m0:00:00\u001b[0m\n",
            "\u001b[2K     \u001b[90m━━━━━━━━━━━━━━━━━━━━━━━━━━━━━━━━━━━━━━━━\u001b[0m \u001b[32m315.8/315.8 kB\u001b[0m \u001b[31m26.0 MB/s\u001b[0m eta \u001b[36m0:00:00\u001b[0m\n",
            "\u001b[2K     \u001b[90m━━━━━━━━━━━━━━━━━━━━━━━━━━━━━━━━━━━━━━━━\u001b[0m \u001b[32m125.3/125.3 kB\u001b[0m \u001b[31m10.8 MB/s\u001b[0m eta \u001b[36m0:00:00\u001b[0m\n",
            "\u001b[2K     \u001b[90m━━━━━━━━━━━━━━━━━━━━━━━━━━━━━━━━━━━━━━━━\u001b[0m \u001b[32m145.0/145.0 kB\u001b[0m \u001b[31m14.3 MB/s\u001b[0m eta \u001b[36m0:00:00\u001b[0m\n",
            "\u001b[2K     \u001b[90m━━━━━━━━━━━━━━━━━━━━━━━━━━━━━━━━━━━━━━━━\u001b[0m \u001b[32m2.2/2.2 MB\u001b[0m \u001b[31m24.0 MB/s\u001b[0m eta \u001b[36m0:00:00\u001b[0m\n",
            "\u001b[2K     \u001b[90m━━━━━━━━━━━━━━━━━━━━━━━━━━━━━━━━━━━━━━━━\u001b[0m \u001b[32m49.2/49.2 kB\u001b[0m \u001b[31m5.5 MB/s\u001b[0m eta \u001b[36m0:00:00\u001b[0m\n",
            "\u001b[?25h"
          ]
        }
      ],
      "source": [
        "# Install the necessary packages\n",
        "!pip install langchain -qU\n",
        "!pip install langchain-community -qU"
      ]
    },
    {
      "cell_type": "markdown",
      "source": [
        "### Loading Text Files"
      ],
      "metadata": {
        "id": "ip_tAX8ADjkv"
      }
    },
    {
      "cell_type": "code",
      "source": [
        "from langchain_community.document_loaders import TextLoader\n",
        "\n",
        "# Initialize the TextLoader with the path to the text file\n",
        "loader = TextLoader(\"/content/example_txt_file.txt\")\n",
        "\n",
        "# Load the text data\n",
        "txt_data = loader.load()\n",
        "\n",
        "print(txt_data)"
      ],
      "metadata": {
        "colab": {
          "base_uri": "https://localhost:8080/"
        },
        "id": "tn_I261--coI",
        "outputId": "cd8030aa-f272-4e88-ebb4-f1824588df80"
      },
      "execution_count": 4,
      "outputs": [
        {
          "output_type": "stream",
          "name": "stdout",
          "text": [
            "[Document(page_content=\"Sri Lanka's national cricket team achieved a historic milestone by winning the ICC Cricket World Cup in 1996. \\nThe team is known for producing cricket legends like Muttiah Muralitharan, the highest wicket-taker in Test cricket history. \\nKumar Sangakkara and Mahela Jayawardene are celebrated for their prolific batting partnerships. \\nSanath Jayasuriya revolutionized one-day cricket with his explosive batting style. \\nThe Galle International Stadium, with its stunning backdrop of the Galle Fort, is one of the world's most picturesque cricket venues. \\nSri Lanka won the ICC T20 World Cup in 2014, demonstrating their prowess in the shortest format of the game. \\nLasith Malinga, famous for his unique bowling action and lethal yorkers, has been a key player in their T20 success. \\nCricket is deeply embedded in Sri Lankan culture, uniting people from all walks of life during major tournaments.\", metadata={'source': '/content/example_txt_file.txt'})]\n"
          ]
        }
      ]
    },
    {
      "cell_type": "code",
      "source": [
        "txt_data[0].page_content"
      ],
      "metadata": {
        "colab": {
          "base_uri": "https://localhost:8080/",
          "height": 157
        },
        "id": "NZzFXTXi_Wp9",
        "outputId": "e1af5296-3e75-4738-ddf0-c7629b7e92d6"
      },
      "execution_count": 5,
      "outputs": [
        {
          "output_type": "execute_result",
          "data": {
            "text/plain": [
              "\"Sri Lanka's national cricket team achieved a historic milestone by winning the ICC Cricket World Cup in 1996. \\nThe team is known for producing cricket legends like Muttiah Muralitharan, the highest wicket-taker in Test cricket history. \\nKumar Sangakkara and Mahela Jayawardene are celebrated for their prolific batting partnerships. \\nSanath Jayasuriya revolutionized one-day cricket with his explosive batting style. \\nThe Galle International Stadium, with its stunning backdrop of the Galle Fort, is one of the world's most picturesque cricket venues. \\nSri Lanka won the ICC T20 World Cup in 2014, demonstrating their prowess in the shortest format of the game. \\nLasith Malinga, famous for his unique bowling action and lethal yorkers, has been a key player in their T20 success. \\nCricket is deeply embedded in Sri Lankan culture, uniting people from all walks of life during major tournaments.\""
            ],
            "application/vnd.google.colaboratory.intrinsic+json": {
              "type": "string"
            }
          },
          "metadata": {},
          "execution_count": 5
        }
      ]
    },
    {
      "cell_type": "code",
      "source": [
        "txt_data[0].metadata"
      ],
      "metadata": {
        "colab": {
          "base_uri": "https://localhost:8080/"
        },
        "id": "XUWj0HH0AAIg",
        "outputId": "cbd44c94-549c-4059-bc64-dc61377146b1"
      },
      "execution_count": 6,
      "outputs": [
        {
          "output_type": "execute_result",
          "data": {
            "text/plain": [
              "{'source': '/content/example_txt_file.txt'}"
            ]
          },
          "metadata": {},
          "execution_count": 6
        }
      ]
    },
    {
      "cell_type": "markdown",
      "source": [
        "### Loading Text Files from a Directory"
      ],
      "metadata": {
        "id": "m0X_3cnBcclZ"
      }
    },
    {
      "cell_type": "code",
      "source": [
        "!pip install unstructured -qU"
      ],
      "metadata": {
        "id": "6ZV8SS2ZMdFB",
        "colab": {
          "base_uri": "https://localhost:8080/"
        },
        "outputId": "17d8aa1e-787c-4bb7-fb3b-1fa4d1795131"
      },
      "execution_count": 7,
      "outputs": [
        {
          "output_type": "stream",
          "name": "stdout",
          "text": [
            "\u001b[2K     \u001b[90m━━━━━━━━━━━━━━━━━━━━━━━━━━━━━━━━━━━━━━━━\u001b[0m \u001b[32m2.0/2.0 MB\u001b[0m \u001b[31m7.9 MB/s\u001b[0m eta \u001b[36m0:00:00\u001b[0m\n",
            "\u001b[2K     \u001b[90m━━━━━━━━━━━━━━━━━━━━━━━━━━━━━━━━━━━━━━━━\u001b[0m \u001b[32m431.4/431.4 kB\u001b[0m \u001b[31m12.9 MB/s\u001b[0m eta \u001b[36m0:00:00\u001b[0m\n",
            "\u001b[2K     \u001b[90m━━━━━━━━━━━━━━━━━━━━━━━━━━━━━━━━━━━━━━━━\u001b[0m \u001b[32m274.7/274.7 kB\u001b[0m \u001b[31m12.0 MB/s\u001b[0m eta \u001b[36m0:00:00\u001b[0m\n",
            "\u001b[2K     \u001b[90m━━━━━━━━━━━━━━━━━━━━━━━━━━━━━━━━━━━━━━━━\u001b[0m \u001b[32m981.5/981.5 kB\u001b[0m \u001b[31m15.3 MB/s\u001b[0m eta \u001b[36m0:00:00\u001b[0m\n",
            "\u001b[?25h  Preparing metadata (setup.py) ... \u001b[?25l\u001b[?25hdone\n",
            "\u001b[2K     \u001b[90m━━━━━━━━━━━━━━━━━━━━━━━━━━━━━━━━━━━━━━━━\u001b[0m \u001b[32m3.4/3.4 MB\u001b[0m \u001b[31m20.5 MB/s\u001b[0m eta \u001b[36m0:00:00\u001b[0m\n",
            "\u001b[2K     \u001b[90m━━━━━━━━━━━━━━━━━━━━━━━━━━━━━━━━━━━━━━━━\u001b[0m \u001b[32m41.0/41.0 kB\u001b[0m \u001b[31m4.2 MB/s\u001b[0m eta \u001b[36m0:00:00\u001b[0m\n",
            "\u001b[2K     \u001b[90m━━━━━━━━━━━━━━━━━━━━━━━━━━━━━━━━━━━━━━━━\u001b[0m \u001b[32m80.8/80.8 kB\u001b[0m \u001b[31m9.0 MB/s\u001b[0m eta \u001b[36m0:00:00\u001b[0m\n",
            "\u001b[2K     \u001b[90m━━━━━━━━━━━━━━━━━━━━━━━━━━━━━━━━━━━━━━━━\u001b[0m \u001b[32m75.6/75.6 kB\u001b[0m \u001b[31m7.0 MB/s\u001b[0m eta \u001b[36m0:00:00\u001b[0m\n",
            "\u001b[2K     \u001b[90m━━━━━━━━━━━━━━━━━━━━━━━━━━━━━━━━━━━━━━━━\u001b[0m \u001b[32m290.4/290.4 kB\u001b[0m \u001b[31m23.8 MB/s\u001b[0m eta \u001b[36m0:00:00\u001b[0m\n",
            "\u001b[2K     \u001b[90m━━━━━━━━━━━━━━━━━━━━━━━━━━━━━━━━━━━━━━━━\u001b[0m \u001b[32m54.5/54.5 kB\u001b[0m \u001b[31m5.8 MB/s\u001b[0m eta \u001b[36m0:00:00\u001b[0m\n",
            "\u001b[2K     \u001b[90m━━━━━━━━━━━━━━━━━━━━━━━━━━━━━━━━━━━━━━━━\u001b[0m \u001b[32m77.9/77.9 kB\u001b[0m \u001b[31m8.9 MB/s\u001b[0m eta \u001b[36m0:00:00\u001b[0m\n",
            "\u001b[2K     \u001b[90m━━━━━━━━━━━━━━━━━━━━━━━━━━━━━━━━━━━━━━━━\u001b[0m \u001b[32m58.3/58.3 kB\u001b[0m \u001b[31m6.0 MB/s\u001b[0m eta \u001b[36m0:00:00\u001b[0m\n",
            "\u001b[?25h  Building wheel for langdetect (setup.py) ... \u001b[?25l\u001b[?25hdone\n"
          ]
        }
      ]
    },
    {
      "cell_type": "code",
      "source": [
        "from langchain_community.document_loaders import DirectoryLoader\n",
        "\n",
        "# Initialize the DirectoryLoader with the path to the directory and a glob pattern for text files\n",
        "loader = DirectoryLoader(\"/content/txt_folder\", glob=\"**/*.txt\")\n",
        "\n",
        "# Load the text data from the directory\n",
        "dataset = loader.load()\n",
        "\n",
        "for data in dataset:\n",
        "  print(\"------------------------\")\n",
        "  print(data.page_content)\n",
        "  print(data.metadata)"
      ],
      "metadata": {
        "colab": {
          "base_uri": "https://localhost:8080/"
        },
        "id": "6WDTlFPPMdB1",
        "outputId": "41334a1f-89f0-4230-dca0-e8e5f58faa94"
      },
      "execution_count": 9,
      "outputs": [
        {
          "output_type": "stream",
          "name": "stderr",
          "text": [
            "[nltk_data] Downloading package punkt to /root/nltk_data...\n",
            "[nltk_data]   Unzipping tokenizers/punkt.zip.\n",
            "[nltk_data] Downloading package averaged_perceptron_tagger to\n",
            "[nltk_data]     /root/nltk_data...\n",
            "[nltk_data]   Unzipping taggers/averaged_perceptron_tagger.zip.\n"
          ]
        },
        {
          "output_type": "stream",
          "name": "stdout",
          "text": [
            "------------------------\n",
            "The T20 World Cup 2024 is in full swing, bringing excitement and drama to cricket fans worldwide.\n",
            "\n",
            "India's team, captained by Rohit Sharma, is preparing for a crucial match against Ireland, with standout player Jasprit Bumrah expected to play a pivotal role in their campaign.\n",
            "\n",
            "The tournament has already seen controversy, particularly concerning the pitch conditions at Nassau County International Cricket Stadium in New York, which came under fire after a low-scoring game between Sri Lanka and South Africa.\n",
            "{'source': '/content/txt_folder/cricket_news.txt'}\n",
            "------------------------\n",
            "The AI revolution continues to transform industries and reshape the global economy.\n",
            "\n",
            "Significant advancements in artificial intelligence have led to breakthroughs in healthcare, with AI-driven diagnostics improving patient outcomes and reducing costs.\n",
            "\n",
            "Autonomous systems are becoming increasingly prevalent in logistics and transportation, enhancing efficiency and safety.\n",
            "{'source': '/content/txt_folder/ai_news.txt'}\n",
            "------------------------\n",
            "As election season heats up, the latest developments reveal a highly competitive atmosphere across several key races.\n",
            "\n",
            "The presidential election has seen intense campaigning from all major candidates, with recent polls indicating a tight race.\n",
            "\n",
            "Incumbent President Jane Doe is seeking re-election on a platform of economic stability and healthcare reform, while her main rival, Senator John Smith, focuses on education and climate change initiatives.\n",
            "{'source': '/content/txt_folder/election_news.txt'}\n",
            "------------------------\n",
            "The world of football is buzzing with excitement as major tournaments and league matches continue to captivate fans globally.\n",
            "\n",
            "In the UEFA Champions League, the semi-final matchups have been set, with defending champions Real Madrid set to face Manchester City, while Bayern Munich will take on Paris Saint-Germain.\n",
            "\n",
            "Both ties promise thrilling encounters, featuring some of the best talents in world football\n",
            "{'source': '/content/txt_folder/football_news.txt'}\n"
          ]
        }
      ]
    },
    {
      "cell_type": "markdown",
      "source": [
        "# Loading PDF Files"
      ],
      "metadata": {
        "id": "8nriKhcUFy1z"
      }
    },
    {
      "cell_type": "code",
      "source": [
        "!pip install pypdf -qU"
      ],
      "metadata": {
        "id": "C7wmn-PTGfzZ"
      },
      "execution_count": 10,
      "outputs": []
    },
    {
      "cell_type": "code",
      "source": [
        "from langchain_community.document_loaders import PyPDFLoader\n",
        "\n",
        "# Initialize the PyPDFLoader with the path to the PDF file\n",
        "loader = PyPDFLoader(\"/content/example_pdf_file.pdf\")\n",
        "\n",
        "# Load the PDF data\n",
        "pdf_data = loader.load()\n",
        "\n",
        "print(pdf_data)"
      ],
      "metadata": {
        "colab": {
          "base_uri": "https://localhost:8080/"
        },
        "id": "pt3OexKiFmZo",
        "outputId": "c8a51ef9-6eb6-43e1-9512-f097ca5c501f"
      },
      "execution_count": 11,
      "outputs": [
        {
          "output_type": "stream",
          "name": "stdout",
          "text": [
            "[Document(page_content=\"Sri Lanka's national cricket team achieved a historic milestone by winning the ICC Cricket World \\nCup in 1996.  \\nThe team is known for producing cricket legends like Muttiah Muralitharan, the highest wicket -taker \\nin Test cricket history.  \\nKumar Sangakkara and Mahela Jayawardene are celebrated for their prolific batting partnerships.  \\nSanath Jayasuriya revolutionized one -day cricket with his explosive batting style.  \\nThe Galle International Stadium, with its stunning backdrop of the Galle Fort, is one of the world's \\nmost picturesque cricket venues.  \\nSri Lanka won the ICC T20 World Cup in 2014, demonstrating their prowess in the shortest format of \\nthe game.  \\nLasith Malinga, famous for his unique bowling action and lethal yorkers, has been a key player in \\ntheir T20 success.  \\nCricket is deeply embedded in Sri Lankan culture, uniting people from all walks of life during major \\ntournaments.  \", metadata={'source': '/content/example_pdf_file.pdf', 'page': 0})]\n"
          ]
        }
      ]
    },
    {
      "cell_type": "code",
      "source": [
        "pdf_data[0].page_content"
      ],
      "metadata": {
        "colab": {
          "base_uri": "https://localhost:8080/",
          "height": 157
        },
        "id": "JoCNwPxfGSPC",
        "outputId": "7d134f9c-3ef4-4cb3-8c41-68c86417bf1f"
      },
      "execution_count": 12,
      "outputs": [
        {
          "output_type": "execute_result",
          "data": {
            "text/plain": [
              "\"Sri Lanka's national cricket team achieved a historic milestone by winning the ICC Cricket World \\nCup in 1996.  \\nThe team is known for producing cricket legends like Muttiah Muralitharan, the highest wicket -taker \\nin Test cricket history.  \\nKumar Sangakkara and Mahela Jayawardene are celebrated for their prolific batting partnerships.  \\nSanath Jayasuriya revolutionized one -day cricket with his explosive batting style.  \\nThe Galle International Stadium, with its stunning backdrop of the Galle Fort, is one of the world's \\nmost picturesque cricket venues.  \\nSri Lanka won the ICC T20 World Cup in 2014, demonstrating their prowess in the shortest format of \\nthe game.  \\nLasith Malinga, famous for his unique bowling action and lethal yorkers, has been a key player in \\ntheir T20 success.  \\nCricket is deeply embedded in Sri Lankan culture, uniting people from all walks of life during major \\ntournaments.  \""
            ],
            "application/vnd.google.colaboratory.intrinsic+json": {
              "type": "string"
            }
          },
          "metadata": {},
          "execution_count": 12
        }
      ]
    },
    {
      "cell_type": "code",
      "source": [
        "pdf_data[0].metadata"
      ],
      "metadata": {
        "colab": {
          "base_uri": "https://localhost:8080/"
        },
        "id": "WfFUo_mAdisE",
        "outputId": "3b9f5902-2117-4f2f-f35c-f65880da977a"
      },
      "execution_count": 13,
      "outputs": [
        {
          "output_type": "execute_result",
          "data": {
            "text/plain": [
              "{'source': '/content/example_pdf_file.pdf', 'page': 0}"
            ]
          },
          "metadata": {},
          "execution_count": 13
        }
      ]
    },
    {
      "cell_type": "markdown",
      "source": [
        "### Loading PDF Files from a Directory"
      ],
      "metadata": {
        "id": "odHPHTWwdmaA"
      }
    },
    {
      "cell_type": "code",
      "source": [
        "from langchain_community.document_loaders import PyPDFDirectoryLoader\n",
        "\n",
        "# Initialize the PyPDFDirectoryLoader with the path to the directory containing PDF files\n",
        "loader = PyPDFDirectoryLoader(\"/content/pdf_folder\")\n",
        "\n",
        "# Load the PDF data from the directory\n",
        "dataset = loader.load()\n",
        "\n",
        "for data in dataset:\n",
        "  print(\"------------------------\")\n",
        "  print(data.page_content)\n",
        "  print(data.metadata)"
      ],
      "metadata": {
        "colab": {
          "base_uri": "https://localhost:8080/"
        },
        "id": "Cwbbuwp3LMwD",
        "outputId": "4be3c123-0877-4267-d75f-a435885b9d4b"
      },
      "execution_count": 14,
      "outputs": [
        {
          "output_type": "stream",
          "name": "stdout",
          "text": [
            "------------------------\n",
            "The T20 World Cup 2024 is in full swing, bringing excitement and drama to cricket fans worldwide.  \n",
            "India's team, captained by Rohit Sharma, is preparing for a crucial match against Ireland, with \n",
            "standout player Jasprit Bumrah expected to play a pivotal role in their campaign.  \n",
            "The tournament has already seen controversy, particularly concerning the pitch conditions at \n",
            "Nassau County International Cricket Stadium in New York, which came under fire after a low -\n",
            "scoring game between Sri Lanka and South Africa.  \n",
            "{'source': '/content/pdf_folder/cricket_news.pdf', 'page': 0}\n",
            "------------------------\n",
            "The world of football is buzzing with excitement as major tournaments and league matches \n",
            "continue to captivate fans globally.  \n",
            "In the UEFA Champions League, the semi -final matchups have been set, with defending champions \n",
            "Real Madrid set to face Manchester City, while Bayern Munich will take on Paris Saint -Germain.  \n",
            "Both ties promise thrilling encounters, featuring some of the best talents in world football  \n",
            "{'source': '/content/pdf_folder/football_news.pdf', 'page': 0}\n",
            "------------------------\n",
            "As election season heats up, the latest developments reveal a highly competitive atmosphere \n",
            "across several key races.  \n",
            "The presidential election has seen intense campaigning from all major candidates, with recent \n",
            "polls indicating a tight race.  \n",
            "Incumbent President Jane Doe is seeking re -election on a platform of economic stability and \n",
            "healthcare reform, while her main rival, Senator John Smith, focuses on education and climate \n",
            "change initiatives.  \n",
            "{'source': '/content/pdf_folder/election_news.pdf', 'page': 0}\n",
            "------------------------\n",
            "The AI revolution continues to transform industries and reshape the global economy.  \n",
            "Significant advancements in artificial intelligence have led to breakthroughs in healthcare, with AI -\n",
            "driven diagnostics improving patient outcomes and reducing costs.  \n",
            "Autonomous systems are becoming increasingly prevalent in logistics and transportation, \n",
            "enhancing efficiency and safety.  \n",
            "{'source': '/content/pdf_folder/ai_news.pdf', 'page': 0}\n"
          ]
        }
      ]
    },
    {
      "cell_type": "markdown",
      "source": [
        "### Loading CSV Files"
      ],
      "metadata": {
        "id": "ktSlHqoEDmPm"
      }
    },
    {
      "cell_type": "code",
      "source": [
        "from langchain_community.document_loaders import CSVLoader\n",
        "\n",
        "# Initialize the CSVLoader with the path to the CSV file\n",
        "loader = CSVLoader(\"/content/example_csv_file.csv\")\n",
        "\n",
        "# Load the CSV data\n",
        "csv_data = loader.load()\n",
        "\n",
        "print(csv_data)"
      ],
      "metadata": {
        "colab": {
          "base_uri": "https://localhost:8080/"
        },
        "id": "2craJfQ8AEaC",
        "outputId": "50025fc3-9028-42cf-a3c2-56214b76038a"
      },
      "execution_count": 15,
      "outputs": [
        {
          "output_type": "stream",
          "name": "stdout",
          "text": [
            "[Document(page_content='\\ufeffname: kamal\\ncity: colombo\\nresult: pass', metadata={'source': '/content/example_csv_file.csv', 'row': 0}), Document(page_content='\\ufeffname: saman\\ncity: kandy\\nresult: pass', metadata={'source': '/content/example_csv_file.csv', 'row': 1}), Document(page_content='\\ufeffname: pawan\\ncity: jaffna\\nresult: fail', metadata={'source': '/content/example_csv_file.csv', 'row': 2}), Document(page_content='\\ufeffname: nimal\\ncity: puttalam\\nresult: fail', metadata={'source': '/content/example_csv_file.csv', 'row': 3}), Document(page_content='\\ufeffname: sunil\\ncity: anuradapura\\nresult: pass', metadata={'source': '/content/example_csv_file.csv', 'row': 4})]\n"
          ]
        }
      ]
    },
    {
      "cell_type": "code",
      "source": [
        "csv_data[0]"
      ],
      "metadata": {
        "colab": {
          "base_uri": "https://localhost:8080/"
        },
        "id": "X0tA8J-7DutR",
        "outputId": "e67bbd12-fade-4100-c646-067ea0f5906a"
      },
      "execution_count": 18,
      "outputs": [
        {
          "output_type": "execute_result",
          "data": {
            "text/plain": [
              "Document(page_content='\\ufeffname: kamal\\ncity: colombo\\nresult: pass', metadata={'source': '/content/example_csv_file.csv', 'row': 0})"
            ]
          },
          "metadata": {},
          "execution_count": 18
        }
      ]
    },
    {
      "cell_type": "code",
      "source": [
        "csv_data[0].page_content"
      ],
      "metadata": {
        "colab": {
          "base_uri": "https://localhost:8080/",
          "height": 35
        },
        "id": "j2xqgR-HD2hL",
        "outputId": "a8c9a99e-a07a-4f8a-8af5-9060f18836e3"
      },
      "execution_count": 19,
      "outputs": [
        {
          "output_type": "execute_result",
          "data": {
            "text/plain": [
              "'\\ufeffname: kamal\\ncity: colombo\\nresult: pass'"
            ],
            "application/vnd.google.colaboratory.intrinsic+json": {
              "type": "string"
            }
          },
          "metadata": {},
          "execution_count": 19
        }
      ]
    },
    {
      "cell_type": "markdown",
      "source": [
        "### Displaying HTML Data"
      ],
      "metadata": {
        "id": "ZezF3gSyEQWW"
      }
    },
    {
      "cell_type": "code",
      "source": [
        "from langchain_community.document_loaders import BSHTMLLoader\n",
        "\n",
        "# Initialize the BSHTMLLoader with the path to the HTML file\n",
        "loader = BSHTMLLoader(\"/content/example_html_file.html\")\n",
        "\n",
        "# Load the HTML data\n",
        "html_data = loader.load()\n",
        "\n",
        "print(html_data)"
      ],
      "metadata": {
        "colab": {
          "base_uri": "https://localhost:8080/"
        },
        "id": "01dqS4kTEBCx",
        "outputId": "361f8ed5-fe39-486b-97e7-6cd6c07ef588"
      },
      "execution_count": 20,
      "outputs": [
        {
          "output_type": "stream",
          "name": "stdout",
          "text": [
            "[Document(page_content=\"\\n\\n\\n\\nSri Lanka Cricket\\n\\n\\n\\n\\nSri Lanka Cricket\\nSri Lanka's national cricket team achieved a historic milestone by winning the ICC Cricket World Cup in 1996.\\nThe team is known for producing cricket legends like Muttiah Muralitharan, the highest wicket-taker in Test cricket history.\\nKumar Sangakkara and Mahela Jayawardene are celebrated for their prolific batting partnerships.\\nSanath Jayasuriya revolutionized one-day cricket with his explosive batting style.\\nThe Galle International Stadium, with its stunning backdrop of the Galle Fort, is one of the world's most picturesque cricket venues.\\nSri Lanka won the ICC T20 World Cup in 2014, demonstrating their prowess in the shortest format of the game.\\nLasith Malinga, famous for his unique bowling action and lethal yorkers, has been a key player in their T20 success.\\nCricket is deeply embedded in Sri Lankan culture, uniting people from all walks of life during major tournaments.\\n\\n\\n\\n\", metadata={'source': '/content/example_html_file.html', 'title': 'Sri Lanka Cricket'})]\n"
          ]
        }
      ]
    },
    {
      "cell_type": "code",
      "source": [
        "html_data[0].page_content"
      ],
      "metadata": {
        "colab": {
          "base_uri": "https://localhost:8080/",
          "height": 157
        },
        "id": "xEAUctVhFZgc",
        "outputId": "76cbae6a-0b2c-4b4c-a3fb-4ca6547c7ecd"
      },
      "execution_count": 21,
      "outputs": [
        {
          "output_type": "execute_result",
          "data": {
            "text/plain": [
              "\"\\n\\n\\n\\nSri Lanka Cricket\\n\\n\\n\\n\\nSri Lanka Cricket\\nSri Lanka's national cricket team achieved a historic milestone by winning the ICC Cricket World Cup in 1996.\\nThe team is known for producing cricket legends like Muttiah Muralitharan, the highest wicket-taker in Test cricket history.\\nKumar Sangakkara and Mahela Jayawardene are celebrated for their prolific batting partnerships.\\nSanath Jayasuriya revolutionized one-day cricket with his explosive batting style.\\nThe Galle International Stadium, with its stunning backdrop of the Galle Fort, is one of the world's most picturesque cricket venues.\\nSri Lanka won the ICC T20 World Cup in 2014, demonstrating their prowess in the shortest format of the game.\\nLasith Malinga, famous for his unique bowling action and lethal yorkers, has been a key player in their T20 success.\\nCricket is deeply embedded in Sri Lankan culture, uniting people from all walks of life during major tournaments.\\n\\n\\n\\n\""
            ],
            "application/vnd.google.colaboratory.intrinsic+json": {
              "type": "string"
            }
          },
          "metadata": {},
          "execution_count": 21
        }
      ]
    },
    {
      "cell_type": "code",
      "source": [
        "html_data[0].metadata"
      ],
      "metadata": {
        "colab": {
          "base_uri": "https://localhost:8080/"
        },
        "id": "KNuzuqopemST",
        "outputId": "033e1f7c-d639-44bc-f0ed-cafc92cd2e13"
      },
      "execution_count": 22,
      "outputs": [
        {
          "output_type": "execute_result",
          "data": {
            "text/plain": [
              "{'source': '/content/example_html_file.html', 'title': 'Sri Lanka Cricket'}"
            ]
          },
          "metadata": {},
          "execution_count": 22
        }
      ]
    }
  ]
}